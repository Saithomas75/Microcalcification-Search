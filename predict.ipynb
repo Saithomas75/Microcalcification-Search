{
 "cells": [
  {
   "cell_type": "code",
   "execution_count": 1,
   "metadata": {},
   "outputs": [],
   "source": [
    "import numpy as np\n",
    "from tensorflow.keras.preprocessing.image import load_img, img_to_array\n",
    "from tensorflow.keras.models import load_model"
   ]
  },
  {
   "cell_type": "code",
   "execution_count": 2,
   "metadata": {},
   "outputs": [],
   "source": [
    "#We load the model and its weights\n",
    "model_dir = '../model/model.h5'\n",
    "model_weigth_dir = '../model/weigths.h5'\n",
    "model = load_model(model_dir)\n",
    "model.load_weights(model_weigth_dir)"
   ]
  },
  {
   "cell_type": "code",
   "execution_count": 11,
   "metadata": {},
   "outputs": [],
   "source": [
    "def predict(file):\n",
    "    x = load_img(file, target_size=(112, 112))\n",
    "    x = img_to_array(x)\n",
    "    x = np.expand_dims(x, axis=0)\n",
    "    array = model.predict(x)\n",
    "    result = array[0]\n",
    "    answer = np.argmax(result)\n",
    "    if answer == 1:\n",
    "        print(\"pred: Density1Benign\")\n",
    "    elif answer == 2:\n",
    "        print(\"pred: Density1Malignant\")\n",
    "    elif answer == 3:\n",
    "        print(\"pred: Density2Benign\")\n",
    "    elif answer == 4:\n",
    "        print(\"pred: Density2Malignant\")\n",
    "    elif answer == 5:\n",
    "        print(\"pred: Density3Benign\")\n",
    "    elif answer == 6:\n",
    "        print(\"pred: Density3Malignant\")\n",
    "    elif answer == 7:\n",
    "        print(\"pred: Density4Benign\")\n",
    "    elif answer == 8:\n",
    "        print(\"pred: Density4Malignant\")\n",
    "    \n",
    "    return answer"
   ]
  },
  {
   "cell_type": "code",
   "execution_count": 12,
   "metadata": {},
   "outputs": [
    {
     "name": "stdout",
     "output_type": "stream",
     "text": [
      "pred: Density2Benign\n"
     ]
    },
    {
     "data": {
      "text/plain": [
       "3"
      ]
     },
     "execution_count": 12,
     "metadata": {},
     "output_type": "execute_result"
    }
   ],
   "source": [
    "predict(\"../data/archive/Dataset of Breast mammography images_out/test/0/20588680 (38).png\")"
   ]
  }
 ],
 "metadata": {
  "kernelspec": {
   "display_name": "Python 3",
   "language": "python",
   "name": "python3"
  },
  "language_info": {
   "codemirror_mode": {
    "name": "ipython",
    "version": 3
   },
   "file_extension": ".py",
   "mimetype": "text/x-python",
   "name": "python",
   "nbconvert_exporter": "python",
   "pygments_lexer": "ipython3",
   "version": "3.7.6"
  }
 },
 "nbformat": 4,
 "nbformat_minor": 4
}
